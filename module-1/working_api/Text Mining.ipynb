{
 "cells": [
  {
   "cell_type": "markdown",
   "metadata": {},
   "source": [
    "# Subreddit analysis"
   ]
  },
  {
   "cell_type": "code",
   "execution_count": 1,
   "metadata": {},
   "outputs": [],
   "source": [
    "import pandas as pd\n",
    "\n",
    "from scraping import get_all_comments_from_subreddit"
   ]
  },
  {
   "cell_type": "markdown",
   "metadata": {},
   "source": [
    "## Getting the data"
   ]
  },
  {
   "cell_type": "code",
   "execution_count": 2,
   "metadata": {},
   "outputs": [
    {
     "name": "stdout",
     "output_type": "stream",
     "text": [
      "Getting posts from /r/askreddit...\n",
      "Getting comments from https://reddit.com/r/AskReddit/comments/c0qaj7/have_you_ever_quit_a_job_without_another_lined_up/.json...\n",
      "Getting comments from https://reddit.com/r/AskReddit/comments/c0ocp5/it_people_of_reddit_what_is_your_goto_generic/.json...\n",
      "Getting comments from https://reddit.com/r/AskReddit/comments/c0matc/which_two_and_two_did_you_just_recently_put/.json...\n",
      "Getting comments from https://reddit.com/r/AskReddit/comments/c0kwdw/teachers_of_reddit_what_is_the_weirdest_excuse/.json...\n",
      "Getting comments from https://reddit.com/r/AskReddit/comments/c0kyo0/americans_whove_visited_european_countries_what/.json...\n",
      "Getting comments from https://reddit.com/r/AskReddit/comments/c0liuk/liberals_of_reddit_what_is_your_most_conservative/.json...\n",
      "Getting comments from https://reddit.com/r/AskReddit/comments/c0n5pd/its_a_post_apocalyptic_world_however_reddit_is/.json...\n",
      "Getting comments from https://reddit.com/r/AskReddit/comments/c0ovb8/serious_doctor_of_reddit_what_was_the_saddest/.json...\n",
      "Getting comments from https://reddit.com/r/AskReddit/comments/c0oyfb/an_alien_is_trying_to_impersonate_you_and_looks/.json...\n",
      "Getting comments from https://reddit.com/r/AskReddit/comments/c0ijuy/teachers_of_reddit_what_are_some_of_the_weirdest/.json...\n",
      "Getting comments from https://reddit.com/r/AskReddit/comments/c0pt9o/serious_whats_something_harmless_your_parents_did/.json...\n",
      "Getting comments from https://reddit.com/r/AskReddit/comments/c0rjaa/what_is_the_worst_feeling_that_isnt_pain/.json...\n",
      "Getting comments from https://reddit.com/r/AskReddit/comments/c0ia83/which_movie_villain_would_be_considered_a_hero_in/.json...\n",
      "Getting comments from https://reddit.com/r/AskReddit/comments/c0iqzu/what_happened_at_your_school_that_shocks_you_to/.json...\n",
      "Getting comments from https://reddit.com/r/AskReddit/comments/c0i0o1/what_illegal_thing_would_you_do_as_soon_as_its/.json...\n",
      "Getting comments from https://reddit.com/r/AskReddit/comments/c0lwed/if_keanu_reeves_is_the_internets_boyfriend_who_is/.json...\n",
      "Getting comments from https://reddit.com/r/AskReddit/comments/c0gzqf/if_you_won_10_million_what_are_literally_the/.json...\n",
      "Getting comments from https://reddit.com/r/AskReddit/comments/c0lv2m/if_you_had_a_warning_label_what_would_it_say/.json...\n",
      "Getting comments from https://reddit.com/r/AskReddit/comments/c0sifa/substitute_teachers_of_reddit_whats_the_hardest/.json...\n",
      "Getting comments from https://reddit.com/r/AskReddit/comments/c0ni9t/gamers_of_reddit_you_are_placed_into_an_arcade/.json...\n",
      "Getting comments from https://reddit.com/r/AskReddit/comments/c0tyde/high_rise_window_cleaners_what_have_you/.json...\n",
      "Getting comments from https://reddit.com/r/AskReddit/comments/c0u9up/redditors_who_are_you_and_what_do_you_do/.json...\n",
      "Getting comments from https://reddit.com/r/AskReddit/comments/c0kml2/redditors_what_made_you_go_thank_god_i_broke_up/.json...\n",
      "Getting comments from https://reddit.com/r/AskReddit/comments/c0ijdo/if_humans_were_kept_as_pets_by_another_species/.json...\n",
      "Getting comments from https://reddit.com/r/AskReddit/comments/c0pshh/women_of_reddit_what_is_the_biggest_mistake_guys/.json...\n"
     ]
    }
   ],
   "source": [
    "subreddit_url = \"/r/askreddit\" # https://reddit.com/r/askreddit\n",
    "comments = get_all_comments_from_subreddit(subreddit_url)"
   ]
  },
  {
   "cell_type": "markdown",
   "metadata": {},
   "source": [
    "## Pre-pre-process data"
   ]
  },
  {
   "cell_type": "markdown",
   "metadata": {},
   "source": [
    "Getting that sweet dataframe tho"
   ]
  },
  {
   "cell_type": "code",
   "execution_count": 3,
   "metadata": {},
   "outputs": [
    {
     "data": {
      "text/html": [
       "<div>\n",
       "<style scoped>\n",
       "    .dataframe tbody tr th:only-of-type {\n",
       "        vertical-align: middle;\n",
       "    }\n",
       "\n",
       "    .dataframe tbody tr th {\n",
       "        vertical-align: top;\n",
       "    }\n",
       "\n",
       "    .dataframe thead th {\n",
       "        text-align: right;\n",
       "    }\n",
       "</style>\n",
       "<table border=\"1\" class=\"dataframe\">\n",
       "  <thead>\n",
       "    <tr style=\"text-align: right;\">\n",
       "      <th></th>\n",
       "      <th>content</th>\n",
       "      <th>score</th>\n",
       "    </tr>\n",
       "  </thead>\n",
       "  <tbody>\n",
       "    <tr>\n",
       "      <th>0</th>\n",
       "      <td>Worked a call center job after one week of tra...</td>\n",
       "      <td>5796</td>\n",
       "    </tr>\n",
       "    <tr>\n",
       "      <th>1</th>\n",
       "      <td>Yep.\\n\\nMy mental health is still not good, an...</td>\n",
       "      <td>7585</td>\n",
       "    </tr>\n",
       "    <tr>\n",
       "      <th>2</th>\n",
       "      <td>Quit my job at a call centre without anything ...</td>\n",
       "      <td>11016</td>\n",
       "    </tr>\n",
       "    <tr>\n",
       "      <th>3</th>\n",
       "      <td>Hell yes.  I worked in a retail store that was...</td>\n",
       "      <td>15330</td>\n",
       "    </tr>\n",
       "    <tr>\n",
       "      <th>4</th>\n",
       "      <td>Left my job of 15 years with nothing lined up ...</td>\n",
       "      <td>6431</td>\n",
       "    </tr>\n",
       "  </tbody>\n",
       "</table>\n",
       "</div>"
      ],
      "text/plain": [
       "                                             content  score\n",
       "0  Worked a call center job after one week of tra...   5796\n",
       "1  Yep.\\n\\nMy mental health is still not good, an...   7585\n",
       "2  Quit my job at a call centre without anything ...  11016\n",
       "3  Hell yes.  I worked in a retail store that was...  15330\n",
       "4  Left my job of 15 years with nothing lined up ...   6431"
      ]
     },
     "execution_count": 3,
     "metadata": {},
     "output_type": "execute_result"
    }
   ],
   "source": [
    "df = pd.DataFrame(comments)\n",
    "df.head()"
   ]
  },
  {
   "cell_type": "markdown",
   "metadata": {},
   "source": [
    "Sorting that shit by scoring (higher better, faster stronger?)"
   ]
  },
  {
   "cell_type": "code",
   "execution_count": 4,
   "metadata": {},
   "outputs": [
    {
     "data": {
      "text/html": [
       "<div>\n",
       "<style scoped>\n",
       "    .dataframe tbody tr th:only-of-type {\n",
       "        vertical-align: middle;\n",
       "    }\n",
       "\n",
       "    .dataframe tbody tr th {\n",
       "        vertical-align: top;\n",
       "    }\n",
       "\n",
       "    .dataframe thead th {\n",
       "        text-align: right;\n",
       "    }\n",
       "</style>\n",
       "<table border=\"1\" class=\"dataframe\">\n",
       "  <thead>\n",
       "    <tr style=\"text-align: right;\">\n",
       "      <th></th>\n",
       "      <th>content</th>\n",
       "      <th>score</th>\n",
       "    </tr>\n",
       "  </thead>\n",
       "  <tbody>\n",
       "    <tr>\n",
       "      <th>99</th>\n",
       "      <td>Valve released Steam. \\n\\nTook me entirely too...</td>\n",
       "      <td>34877</td>\n",
       "    </tr>\n",
       "    <tr>\n",
       "      <th>574</th>\n",
       "      <td>A sugar glider. Kept hearing a high pitched sq...</td>\n",
       "      <td>27255</td>\n",
       "    </tr>\n",
       "    <tr>\n",
       "      <th>76</th>\n",
       "      <td>In Spanish, hats are called \"sombrero\" because...</td>\n",
       "      <td>26751</td>\n",
       "    </tr>\n",
       "    <tr>\n",
       "      <th>1051</th>\n",
       "      <td>Fyre Festival VIP suites</td>\n",
       "      <td>24645</td>\n",
       "    </tr>\n",
       "    <tr>\n",
       "      <th>78</th>\n",
       "      <td>I race cars in an amateur league. There is a b...</td>\n",
       "      <td>22941</td>\n",
       "    </tr>\n",
       "  </tbody>\n",
       "</table>\n",
       "</div>"
      ],
      "text/plain": [
       "                                                content  score\n",
       "99    Valve released Steam. \\n\\nTook me entirely too...  34877\n",
       "574   A sugar glider. Kept hearing a high pitched sq...  27255\n",
       "76    In Spanish, hats are called \"sombrero\" because...  26751\n",
       "1051                           Fyre Festival VIP suites  24645\n",
       "78    I race cars in an amateur league. There is a b...  22941"
      ]
     },
     "execution_count": 4,
     "metadata": {},
     "output_type": "execute_result"
    }
   ],
   "source": [
    "df.sort_values(by=['score'], inplace=True, ascending=False)\n",
    "df.head()"
   ]
  },
  {
   "cell_type": "markdown",
   "metadata": {},
   "source": [
    "Let's remove all urls from the text with a `re.sub` regex I found in the internet."
   ]
  },
  {
   "cell_type": "code",
   "execution_count": 5,
   "metadata": {},
   "outputs": [
    {
     "name": "stdout",
     "output_type": "stream",
     "text": [
      " hola me llamo Javier\n",
      "https://reddit.com/ejemplo hola me llamo Javier\n"
     ]
    },
    {
     "data": {
      "text/html": [
       "<div>\n",
       "<style scoped>\n",
       "    .dataframe tbody tr th:only-of-type {\n",
       "        vertical-align: middle;\n",
       "    }\n",
       "\n",
       "    .dataframe tbody tr th {\n",
       "        vertical-align: top;\n",
       "    }\n",
       "\n",
       "    .dataframe thead th {\n",
       "        text-align: right;\n",
       "    }\n",
       "</style>\n",
       "<table border=\"1\" class=\"dataframe\">\n",
       "  <thead>\n",
       "    <tr style=\"text-align: right;\">\n",
       "      <th></th>\n",
       "      <th>content</th>\n",
       "      <th>score</th>\n",
       "    </tr>\n",
       "  </thead>\n",
       "  <tbody>\n",
       "    <tr>\n",
       "      <th>99</th>\n",
       "      <td>Valve released Steam. \\n\\nTook me entirely too...</td>\n",
       "      <td>34877</td>\n",
       "    </tr>\n",
       "    <tr>\n",
       "      <th>574</th>\n",
       "      <td>A sugar glider. Kept hearing a high pitched sq...</td>\n",
       "      <td>27255</td>\n",
       "    </tr>\n",
       "    <tr>\n",
       "      <th>76</th>\n",
       "      <td>In Spanish, hats are called \"sombrero\" because...</td>\n",
       "      <td>26751</td>\n",
       "    </tr>\n",
       "    <tr>\n",
       "      <th>1051</th>\n",
       "      <td>Fyre Festival VIP suites</td>\n",
       "      <td>24645</td>\n",
       "    </tr>\n",
       "    <tr>\n",
       "      <th>78</th>\n",
       "      <td>I race cars in an amateur league. There is a b...</td>\n",
       "      <td>22941</td>\n",
       "    </tr>\n",
       "  </tbody>\n",
       "</table>\n",
       "</div>"
      ],
      "text/plain": [
       "                                                content  score\n",
       "99    Valve released Steam. \\n\\nTook me entirely too...  34877\n",
       "574   A sugar glider. Kept hearing a high pitched sq...  27255\n",
       "76    In Spanish, hats are called \"sombrero\" because...  26751\n",
       "1051                           Fyre Festival VIP suites  24645\n",
       "78    I race cars in an amateur league. There is a b...  22941"
      ]
     },
     "execution_count": 5,
     "metadata": {},
     "output_type": "execute_result"
    }
   ],
   "source": [
    "import re\n",
    "\n",
    "hola = \"https://reddit.com/ejemplo hola me llamo Javier\"\n",
    "print(re.sub(r'\\w+:\\/{2}[\\d\\w-]+(\\.[\\d\\w-]+)*(?:(?:\\/[^\\s/]*))*', '', hola))\n",
    "print(hola)\n",
    "\n",
    "df['content'] = df['content'].apply(lambda comment: re.sub(r'\\w+:\\/{2}[\\d\\w-]+(\\.[\\d\\w-]+)*(?:(?:\\/[^\\s/]*))*', '', comment))\n",
    "df.head()"
   ]
  },
  {
   "cell_type": "markdown",
   "metadata": {},
   "source": [
    "Remove all punctuation with this expression I found in the internet."
   ]
  },
  {
   "cell_type": "code",
   "execution_count": 6,
   "metadata": {},
   "outputs": [
    {
     "data": {
      "text/html": [
       "<div>\n",
       "<style scoped>\n",
       "    .dataframe tbody tr th:only-of-type {\n",
       "        vertical-align: middle;\n",
       "    }\n",
       "\n",
       "    .dataframe tbody tr th {\n",
       "        vertical-align: top;\n",
       "    }\n",
       "\n",
       "    .dataframe thead th {\n",
       "        text-align: right;\n",
       "    }\n",
       "</style>\n",
       "<table border=\"1\" class=\"dataframe\">\n",
       "  <thead>\n",
       "    <tr style=\"text-align: right;\">\n",
       "      <th></th>\n",
       "      <th>content</th>\n",
       "      <th>score</th>\n",
       "    </tr>\n",
       "  </thead>\n",
       "  <tbody>\n",
       "    <tr>\n",
       "      <th>99</th>\n",
       "      <td>Valve released Steam \\n\\nTook me entirely too ...</td>\n",
       "      <td>34877</td>\n",
       "    </tr>\n",
       "    <tr>\n",
       "      <th>574</th>\n",
       "      <td>A sugar glider Kept hearing a high pitched squ...</td>\n",
       "      <td>27255</td>\n",
       "    </tr>\n",
       "    <tr>\n",
       "      <th>76</th>\n",
       "      <td>In Spanish hats are called sombrero because th...</td>\n",
       "      <td>26751</td>\n",
       "    </tr>\n",
       "    <tr>\n",
       "      <th>1051</th>\n",
       "      <td>Fyre Festival VIP suites</td>\n",
       "      <td>24645</td>\n",
       "    </tr>\n",
       "    <tr>\n",
       "      <th>78</th>\n",
       "      <td>I race cars in an amateur league There is a bl...</td>\n",
       "      <td>22941</td>\n",
       "    </tr>\n",
       "  </tbody>\n",
       "</table>\n",
       "</div>"
      ],
      "text/plain": [
       "                                                content  score\n",
       "99    Valve released Steam \\n\\nTook me entirely too ...  34877\n",
       "574   A sugar glider Kept hearing a high pitched squ...  27255\n",
       "76    In Spanish hats are called sombrero because th...  26751\n",
       "1051                           Fyre Festival VIP suites  24645\n",
       "78    I race cars in an amateur league There is a bl...  22941"
      ]
     },
     "execution_count": 6,
     "metadata": {},
     "output_type": "execute_result"
    }
   ],
   "source": [
    "df['content'] = df['content'].str.replace(r'[^\\w\\s]','')\n",
    "df.head()"
   ]
  },
  {
   "cell_type": "markdown",
   "metadata": {},
   "source": [
    "## Pre-processing stats!"
   ]
  },
  {
   "cell_type": "markdown",
   "metadata": {},
   "source": [
    "Let's do some Natural Language Processing with `NLTK`!"
   ]
  },
  {
   "cell_type": "code",
   "execution_count": 24,
   "metadata": {},
   "outputs": [
    {
     "data": {
      "text/plain": [
       "['Hola', 'me', 'llamo', ',', 'Javier']"
      ]
     },
     "execution_count": 24,
     "metadata": {},
     "output_type": "execute_result"
    }
   ],
   "source": [
    "import nltk\n",
    "#nltk.download()"
   ]
  },
  {
   "cell_type": "markdown",
   "metadata": {},
   "source": [
    "Okay, let's turn all text into a list of words! We are going to use nltk instead of our own homegrown solution! They know better!"
   ]
  },
  {
   "cell_type": "code",
   "execution_count": 8,
   "metadata": {},
   "outputs": [
    {
     "data": {
      "text/html": [
       "<div>\n",
       "<style scoped>\n",
       "    .dataframe tbody tr th:only-of-type {\n",
       "        vertical-align: middle;\n",
       "    }\n",
       "\n",
       "    .dataframe tbody tr th {\n",
       "        vertical-align: top;\n",
       "    }\n",
       "\n",
       "    .dataframe thead th {\n",
       "        text-align: right;\n",
       "    }\n",
       "</style>\n",
       "<table border=\"1\" class=\"dataframe\">\n",
       "  <thead>\n",
       "    <tr style=\"text-align: right;\">\n",
       "      <th></th>\n",
       "      <th>content</th>\n",
       "      <th>score</th>\n",
       "    </tr>\n",
       "  </thead>\n",
       "  <tbody>\n",
       "    <tr>\n",
       "      <th>99</th>\n",
       "      <td>[Valve, released, Steam, Took, me, entirely, t...</td>\n",
       "      <td>34877</td>\n",
       "    </tr>\n",
       "    <tr>\n",
       "      <th>574</th>\n",
       "      <td>[A, sugar, glider, Kept, hearing, a, high, pit...</td>\n",
       "      <td>27255</td>\n",
       "    </tr>\n",
       "    <tr>\n",
       "      <th>76</th>\n",
       "      <td>[In, Spanish, hats, are, called, sombrero, bec...</td>\n",
       "      <td>26751</td>\n",
       "    </tr>\n",
       "    <tr>\n",
       "      <th>1051</th>\n",
       "      <td>[Fyre, Festival, VIP, suites]</td>\n",
       "      <td>24645</td>\n",
       "    </tr>\n",
       "    <tr>\n",
       "      <th>78</th>\n",
       "      <td>[I, race, cars, in, an, amateur, league, There...</td>\n",
       "      <td>22941</td>\n",
       "    </tr>\n",
       "  </tbody>\n",
       "</table>\n",
       "</div>"
      ],
      "text/plain": [
       "                                                content  score\n",
       "99    [Valve, released, Steam, Took, me, entirely, t...  34877\n",
       "574   [A, sugar, glider, Kept, hearing, a, high, pit...  27255\n",
       "76    [In, Spanish, hats, are, called, sombrero, bec...  26751\n",
       "1051                      [Fyre, Festival, VIP, suites]  24645\n",
       "78    [I, race, cars, in, an, amateur, league, There...  22941"
      ]
     },
     "execution_count": 8,
     "metadata": {},
     "output_type": "execute_result"
    }
   ],
   "source": [
    "df['content'] = df['content'].apply(lambda comment: nltk.word_tokenize(comment))\n",
    "df.head()"
   ]
  },
  {
   "cell_type": "markdown",
   "metadata": {},
   "source": [
    "The word count of each comment could be useful"
   ]
  },
  {
   "cell_type": "code",
   "execution_count": 9,
   "metadata": {},
   "outputs": [
    {
     "data": {
      "text/html": [
       "<div>\n",
       "<style scoped>\n",
       "    .dataframe tbody tr th:only-of-type {\n",
       "        vertical-align: middle;\n",
       "    }\n",
       "\n",
       "    .dataframe tbody tr th {\n",
       "        vertical-align: top;\n",
       "    }\n",
       "\n",
       "    .dataframe thead th {\n",
       "        text-align: right;\n",
       "    }\n",
       "</style>\n",
       "<table border=\"1\" class=\"dataframe\">\n",
       "  <thead>\n",
       "    <tr style=\"text-align: right;\">\n",
       "      <th></th>\n",
       "      <th>content</th>\n",
       "      <th>score</th>\n",
       "      <th>word_count</th>\n",
       "    </tr>\n",
       "  </thead>\n",
       "  <tbody>\n",
       "    <tr>\n",
       "      <th>99</th>\n",
       "      <td>[Valve, released, Steam, Took, me, entirely, t...</td>\n",
       "      <td>34877</td>\n",
       "      <td>12</td>\n",
       "    </tr>\n",
       "    <tr>\n",
       "      <th>574</th>\n",
       "      <td>[A, sugar, glider, Kept, hearing, a, high, pit...</td>\n",
       "      <td>27255</td>\n",
       "      <td>29</td>\n",
       "    </tr>\n",
       "    <tr>\n",
       "      <th>76</th>\n",
       "      <td>[In, Spanish, hats, are, called, sombrero, bec...</td>\n",
       "      <td>26751</td>\n",
       "      <td>11</td>\n",
       "    </tr>\n",
       "    <tr>\n",
       "      <th>1051</th>\n",
       "      <td>[Fyre, Festival, VIP, suites]</td>\n",
       "      <td>24645</td>\n",
       "      <td>4</td>\n",
       "    </tr>\n",
       "    <tr>\n",
       "      <th>78</th>\n",
       "      <td>[I, race, cars, in, an, amateur, league, There...</td>\n",
       "      <td>22941</td>\n",
       "      <td>39</td>\n",
       "    </tr>\n",
       "  </tbody>\n",
       "</table>\n",
       "</div>"
      ],
      "text/plain": [
       "                                                content  score  word_count\n",
       "99    [Valve, released, Steam, Took, me, entirely, t...  34877          12\n",
       "574   [A, sugar, glider, Kept, hearing, a, high, pit...  27255          29\n",
       "76    [In, Spanish, hats, are, called, sombrero, bec...  26751          11\n",
       "1051                      [Fyre, Festival, VIP, suites]  24645           4\n",
       "78    [I, race, cars, in, an, amateur, league, There...  22941          39"
      ]
     },
     "execution_count": 9,
     "metadata": {},
     "output_type": "execute_result"
    }
   ],
   "source": [
    "df['word_count'] = df['content'].apply(len)\n",
    "df.head()"
   ]
  },
  {
   "cell_type": "markdown",
   "metadata": {},
   "source": [
    "Then, the lenght of the characters could be of use too"
   ]
  },
  {
   "cell_type": "code",
   "execution_count": 10,
   "metadata": {},
   "outputs": [
    {
     "data": {
      "text/html": [
       "<div>\n",
       "<style scoped>\n",
       "    .dataframe tbody tr th:only-of-type {\n",
       "        vertical-align: middle;\n",
       "    }\n",
       "\n",
       "    .dataframe tbody tr th {\n",
       "        vertical-align: top;\n",
       "    }\n",
       "\n",
       "    .dataframe thead th {\n",
       "        text-align: right;\n",
       "    }\n",
       "</style>\n",
       "<table border=\"1\" class=\"dataframe\">\n",
       "  <thead>\n",
       "    <tr style=\"text-align: right;\">\n",
       "      <th></th>\n",
       "      <th>content</th>\n",
       "      <th>score</th>\n",
       "      <th>word_count</th>\n",
       "      <th>char_len</th>\n",
       "    </tr>\n",
       "  </thead>\n",
       "  <tbody>\n",
       "    <tr>\n",
       "      <th>99</th>\n",
       "      <td>[Valve, released, Steam, Took, me, entirely, t...</td>\n",
       "      <td>34877</td>\n",
       "      <td>12</td>\n",
       "      <td>54</td>\n",
       "    </tr>\n",
       "    <tr>\n",
       "      <th>574</th>\n",
       "      <td>[A, sugar, glider, Kept, hearing, a, high, pit...</td>\n",
       "      <td>27255</td>\n",
       "      <td>29</td>\n",
       "      <td>119</td>\n",
       "    </tr>\n",
       "    <tr>\n",
       "      <th>76</th>\n",
       "      <td>[In, Spanish, hats, are, called, sombrero, bec...</td>\n",
       "      <td>26751</td>\n",
       "      <td>11</td>\n",
       "      <td>56</td>\n",
       "    </tr>\n",
       "    <tr>\n",
       "      <th>1051</th>\n",
       "      <td>[Fyre, Festival, VIP, suites]</td>\n",
       "      <td>24645</td>\n",
       "      <td>4</td>\n",
       "      <td>21</td>\n",
       "    </tr>\n",
       "    <tr>\n",
       "      <th>78</th>\n",
       "      <td>[I, race, cars, in, an, amateur, league, There...</td>\n",
       "      <td>22941</td>\n",
       "      <td>39</td>\n",
       "      <td>159</td>\n",
       "    </tr>\n",
       "  </tbody>\n",
       "</table>\n",
       "</div>"
      ],
      "text/plain": [
       "                                                content  score  word_count  \\\n",
       "99    [Valve, released, Steam, Took, me, entirely, t...  34877          12   \n",
       "574   [A, sugar, glider, Kept, hearing, a, high, pit...  27255          29   \n",
       "76    [In, Spanish, hats, are, called, sombrero, bec...  26751          11   \n",
       "1051                      [Fyre, Festival, VIP, suites]  24645           4   \n",
       "78    [I, race, cars, in, an, amateur, league, There...  22941          39   \n",
       "\n",
       "      char_len  \n",
       "99          54  \n",
       "574        119  \n",
       "76          56  \n",
       "1051        21  \n",
       "78         159  "
      ]
     },
     "execution_count": 10,
     "metadata": {},
     "output_type": "execute_result"
    }
   ],
   "source": [
    "df['char_len'] = df['content'].apply(lambda comment: sum(len(word) for word in comment))\n",
    "df.head()"
   ]
  },
  {
   "cell_type": "markdown",
   "metadata": {},
   "source": [
    "How many characters long is a word in average?"
   ]
  },
  {
   "cell_type": "code",
   "execution_count": 11,
   "metadata": {},
   "outputs": [
    {
     "data": {
      "text/html": [
       "<div>\n",
       "<style scoped>\n",
       "    .dataframe tbody tr th:only-of-type {\n",
       "        vertical-align: middle;\n",
       "    }\n",
       "\n",
       "    .dataframe tbody tr th {\n",
       "        vertical-align: top;\n",
       "    }\n",
       "\n",
       "    .dataframe thead th {\n",
       "        text-align: right;\n",
       "    }\n",
       "</style>\n",
       "<table border=\"1\" class=\"dataframe\">\n",
       "  <thead>\n",
       "    <tr style=\"text-align: right;\">\n",
       "      <th></th>\n",
       "      <th>content</th>\n",
       "      <th>score</th>\n",
       "      <th>word_count</th>\n",
       "      <th>char_len</th>\n",
       "      <th>avg_word</th>\n",
       "    </tr>\n",
       "  </thead>\n",
       "  <tbody>\n",
       "    <tr>\n",
       "      <th>99</th>\n",
       "      <td>[Valve, released, Steam, Took, me, entirely, t...</td>\n",
       "      <td>34877</td>\n",
       "      <td>12</td>\n",
       "      <td>54</td>\n",
       "      <td>4.500000</td>\n",
       "    </tr>\n",
       "    <tr>\n",
       "      <th>574</th>\n",
       "      <td>[A, sugar, glider, Kept, hearing, a, high, pit...</td>\n",
       "      <td>27255</td>\n",
       "      <td>29</td>\n",
       "      <td>119</td>\n",
       "      <td>4.103448</td>\n",
       "    </tr>\n",
       "    <tr>\n",
       "      <th>76</th>\n",
       "      <td>[In, Spanish, hats, are, called, sombrero, bec...</td>\n",
       "      <td>26751</td>\n",
       "      <td>11</td>\n",
       "      <td>56</td>\n",
       "      <td>5.090909</td>\n",
       "    </tr>\n",
       "    <tr>\n",
       "      <th>1051</th>\n",
       "      <td>[Fyre, Festival, VIP, suites]</td>\n",
       "      <td>24645</td>\n",
       "      <td>4</td>\n",
       "      <td>21</td>\n",
       "      <td>5.250000</td>\n",
       "    </tr>\n",
       "    <tr>\n",
       "      <th>78</th>\n",
       "      <td>[I, race, cars, in, an, amateur, league, There...</td>\n",
       "      <td>22941</td>\n",
       "      <td>39</td>\n",
       "      <td>159</td>\n",
       "      <td>4.076923</td>\n",
       "    </tr>\n",
       "  </tbody>\n",
       "</table>\n",
       "</div>"
      ],
      "text/plain": [
       "                                                content  score  word_count  \\\n",
       "99    [Valve, released, Steam, Took, me, entirely, t...  34877          12   \n",
       "574   [A, sugar, glider, Kept, hearing, a, high, pit...  27255          29   \n",
       "76    [In, Spanish, hats, are, called, sombrero, bec...  26751          11   \n",
       "1051                      [Fyre, Festival, VIP, suites]  24645           4   \n",
       "78    [I, race, cars, in, an, amateur, league, There...  22941          39   \n",
       "\n",
       "      char_len  avg_word  \n",
       "99          54  4.500000  \n",
       "574        119  4.103448  \n",
       "76          56  5.090909  \n",
       "1051        21  5.250000  \n",
       "78         159  4.076923  "
      ]
     },
     "execution_count": 11,
     "metadata": {},
     "output_type": "execute_result"
    }
   ],
   "source": [
    "def avg_word(comment):\n",
    "    return (sum(len(word) for word in comment)/len(comment))\n",
    "df['avg_word'] = df['content'].apply(avg_word)\n",
    "df.head()"
   ]
  },
  {
   "cell_type": "markdown",
   "metadata": {},
   "source": [
    "Let's get how many stopwords are there in the comments"
   ]
  },
  {
   "cell_type": "code",
   "execution_count": 26,
   "metadata": {},
   "outputs": [
    {
     "data": {
      "text/html": [
       "<div>\n",
       "<style scoped>\n",
       "    .dataframe tbody tr th:only-of-type {\n",
       "        vertical-align: middle;\n",
       "    }\n",
       "\n",
       "    .dataframe tbody tr th {\n",
       "        vertical-align: top;\n",
       "    }\n",
       "\n",
       "    .dataframe thead th {\n",
       "        text-align: right;\n",
       "    }\n",
       "</style>\n",
       "<table border=\"1\" class=\"dataframe\">\n",
       "  <thead>\n",
       "    <tr style=\"text-align: right;\">\n",
       "      <th></th>\n",
       "      <th>content</th>\n",
       "      <th>score</th>\n",
       "      <th>word_count</th>\n",
       "      <th>char_len</th>\n",
       "      <th>avg_word</th>\n",
       "      <th>stopwords</th>\n",
       "      <th>upper_words</th>\n",
       "    </tr>\n",
       "  </thead>\n",
       "  <tbody>\n",
       "    <tr>\n",
       "      <th>99</th>\n",
       "      <td>[valve, released, steam, took, entirely, long,...</td>\n",
       "      <td>34877</td>\n",
       "      <td>12</td>\n",
       "      <td>54</td>\n",
       "      <td>4.500000</td>\n",
       "      <td>0</td>\n",
       "      <td>0</td>\n",
       "    </tr>\n",
       "    <tr>\n",
       "      <th>574</th>\n",
       "      <td>[sugar, glider, kept, hearing, high, pitched, ...</td>\n",
       "      <td>27255</td>\n",
       "      <td>29</td>\n",
       "      <td>119</td>\n",
       "      <td>4.103448</td>\n",
       "      <td>0</td>\n",
       "      <td>1</td>\n",
       "    </tr>\n",
       "    <tr>\n",
       "      <th>76</th>\n",
       "      <td>[spanish, hat, called, sombrero, make, sombra,...</td>\n",
       "      <td>26751</td>\n",
       "      <td>11</td>\n",
       "      <td>56</td>\n",
       "      <td>5.090909</td>\n",
       "      <td>0</td>\n",
       "      <td>0</td>\n",
       "    </tr>\n",
       "    <tr>\n",
       "      <th>1051</th>\n",
       "      <td>[fyre, festival, vip, suite]</td>\n",
       "      <td>24645</td>\n",
       "      <td>4</td>\n",
       "      <td>21</td>\n",
       "      <td>5.250000</td>\n",
       "      <td>0</td>\n",
       "      <td>1</td>\n",
       "    </tr>\n",
       "    <tr>\n",
       "      <th>78</th>\n",
       "      <td>[race, car, amateur, league, blue, 240sx, name...</td>\n",
       "      <td>22941</td>\n",
       "      <td>39</td>\n",
       "      <td>159</td>\n",
       "      <td>4.076923</td>\n",
       "      <td>0</td>\n",
       "      <td>3</td>\n",
       "    </tr>\n",
       "  </tbody>\n",
       "</table>\n",
       "</div>"
      ],
      "text/plain": [
       "                                                content  score  word_count  \\\n",
       "99    [valve, released, steam, took, entirely, long,...  34877          12   \n",
       "574   [sugar, glider, kept, hearing, high, pitched, ...  27255          29   \n",
       "76    [spanish, hat, called, sombrero, make, sombra,...  26751          11   \n",
       "1051                       [fyre, festival, vip, suite]  24645           4   \n",
       "78    [race, car, amateur, league, blue, 240sx, name...  22941          39   \n",
       "\n",
       "      char_len  avg_word  stopwords  upper_words  \n",
       "99          54  4.500000          0            0  \n",
       "574        119  4.103448          0            1  \n",
       "76          56  5.090909          0            0  \n",
       "1051        21  5.250000          0            1  \n",
       "78         159  4.076923          0            3  "
      ]
     },
     "execution_count": 26,
     "metadata": {},
     "output_type": "execute_result"
    }
   ],
   "source": [
    "from nltk.corpus import stopwords\n",
    "stop = stopwords.words('english')\n",
    "df['stopwords'] = df['content'].apply(lambda comment: len([word for word in comment if word in stop]))\n",
    "df.head()"
   ]
  },
  {
   "cell_type": "markdown",
   "metadata": {},
   "source": [
    "How many upper words?"
   ]
  },
  {
   "cell_type": "code",
   "execution_count": 13,
   "metadata": {},
   "outputs": [
    {
     "data": {
      "text/html": [
       "<div>\n",
       "<style scoped>\n",
       "    .dataframe tbody tr th:only-of-type {\n",
       "        vertical-align: middle;\n",
       "    }\n",
       "\n",
       "    .dataframe tbody tr th {\n",
       "        vertical-align: top;\n",
       "    }\n",
       "\n",
       "    .dataframe thead th {\n",
       "        text-align: right;\n",
       "    }\n",
       "</style>\n",
       "<table border=\"1\" class=\"dataframe\">\n",
       "  <thead>\n",
       "    <tr style=\"text-align: right;\">\n",
       "      <th></th>\n",
       "      <th>content</th>\n",
       "      <th>score</th>\n",
       "      <th>word_count</th>\n",
       "      <th>char_len</th>\n",
       "      <th>avg_word</th>\n",
       "      <th>stopwords</th>\n",
       "      <th>upper_words</th>\n",
       "    </tr>\n",
       "  </thead>\n",
       "  <tbody>\n",
       "    <tr>\n",
       "      <th>99</th>\n",
       "      <td>[Valve, released, Steam, Took, me, entirely, t...</td>\n",
       "      <td>34877</td>\n",
       "      <td>12</td>\n",
       "      <td>54</td>\n",
       "      <td>4.500000</td>\n",
       "      <td>4</td>\n",
       "      <td>0</td>\n",
       "    </tr>\n",
       "    <tr>\n",
       "      <th>574</th>\n",
       "      <td>[A, sugar, glider, Kept, hearing, a, high, pit...</td>\n",
       "      <td>27255</td>\n",
       "      <td>29</td>\n",
       "      <td>119</td>\n",
       "      <td>4.103448</td>\n",
       "      <td>12</td>\n",
       "      <td>1</td>\n",
       "    </tr>\n",
       "    <tr>\n",
       "      <th>76</th>\n",
       "      <td>[In, Spanish, hats, are, called, sombrero, bec...</td>\n",
       "      <td>26751</td>\n",
       "      <td>11</td>\n",
       "      <td>56</td>\n",
       "      <td>5.090909</td>\n",
       "      <td>3</td>\n",
       "      <td>0</td>\n",
       "    </tr>\n",
       "    <tr>\n",
       "      <th>1051</th>\n",
       "      <td>[Fyre, Festival, VIP, suites]</td>\n",
       "      <td>24645</td>\n",
       "      <td>4</td>\n",
       "      <td>21</td>\n",
       "      <td>5.250000</td>\n",
       "      <td>0</td>\n",
       "      <td>1</td>\n",
       "    </tr>\n",
       "    <tr>\n",
       "      <th>78</th>\n",
       "      <td>[I, race, cars, in, an, amateur, league, There...</td>\n",
       "      <td>22941</td>\n",
       "      <td>39</td>\n",
       "      <td>159</td>\n",
       "      <td>4.076923</td>\n",
       "      <td>17</td>\n",
       "      <td>3</td>\n",
       "    </tr>\n",
       "  </tbody>\n",
       "</table>\n",
       "</div>"
      ],
      "text/plain": [
       "                                                content  score  word_count  \\\n",
       "99    [Valve, released, Steam, Took, me, entirely, t...  34877          12   \n",
       "574   [A, sugar, glider, Kept, hearing, a, high, pit...  27255          29   \n",
       "76    [In, Spanish, hats, are, called, sombrero, bec...  26751          11   \n",
       "1051                      [Fyre, Festival, VIP, suites]  24645           4   \n",
       "78    [I, race, cars, in, an, amateur, league, There...  22941          39   \n",
       "\n",
       "      char_len  avg_word  stopwords  upper_words  \n",
       "99          54  4.500000          4            0  \n",
       "574        119  4.103448         12            1  \n",
       "76          56  5.090909          3            0  \n",
       "1051        21  5.250000          0            1  \n",
       "78         159  4.076923         17            3  "
      ]
     },
     "execution_count": 13,
     "metadata": {},
     "output_type": "execute_result"
    }
   ],
   "source": [
    "df['upper_words'] = df['content'].apply(lambda comment: len([word for word in comment if word.isupper()]))\n",
    "df.head()"
   ]
  },
  {
   "cell_type": "markdown",
   "metadata": {},
   "source": [
    "## Actually pre-processing\n",
    "\n",
    "Let's turn all words into lowercase"
   ]
  },
  {
   "cell_type": "code",
   "execution_count": 14,
   "metadata": {},
   "outputs": [
    {
     "data": {
      "text/html": [
       "<div>\n",
       "<style scoped>\n",
       "    .dataframe tbody tr th:only-of-type {\n",
       "        vertical-align: middle;\n",
       "    }\n",
       "\n",
       "    .dataframe tbody tr th {\n",
       "        vertical-align: top;\n",
       "    }\n",
       "\n",
       "    .dataframe thead th {\n",
       "        text-align: right;\n",
       "    }\n",
       "</style>\n",
       "<table border=\"1\" class=\"dataframe\">\n",
       "  <thead>\n",
       "    <tr style=\"text-align: right;\">\n",
       "      <th></th>\n",
       "      <th>content</th>\n",
       "      <th>score</th>\n",
       "      <th>word_count</th>\n",
       "      <th>char_len</th>\n",
       "      <th>avg_word</th>\n",
       "      <th>stopwords</th>\n",
       "      <th>upper_words</th>\n",
       "    </tr>\n",
       "  </thead>\n",
       "  <tbody>\n",
       "    <tr>\n",
       "      <th>99</th>\n",
       "      <td>[valve, released, steam, took, me, entirely, t...</td>\n",
       "      <td>34877</td>\n",
       "      <td>12</td>\n",
       "      <td>54</td>\n",
       "      <td>4.500000</td>\n",
       "      <td>4</td>\n",
       "      <td>0</td>\n",
       "    </tr>\n",
       "    <tr>\n",
       "      <th>574</th>\n",
       "      <td>[a, sugar, glider, kept, hearing, a, high, pit...</td>\n",
       "      <td>27255</td>\n",
       "      <td>29</td>\n",
       "      <td>119</td>\n",
       "      <td>4.103448</td>\n",
       "      <td>12</td>\n",
       "      <td>1</td>\n",
       "    </tr>\n",
       "    <tr>\n",
       "      <th>76</th>\n",
       "      <td>[in, spanish, hats, are, called, sombrero, bec...</td>\n",
       "      <td>26751</td>\n",
       "      <td>11</td>\n",
       "      <td>56</td>\n",
       "      <td>5.090909</td>\n",
       "      <td>3</td>\n",
       "      <td>0</td>\n",
       "    </tr>\n",
       "    <tr>\n",
       "      <th>1051</th>\n",
       "      <td>[fyre, festival, vip, suites]</td>\n",
       "      <td>24645</td>\n",
       "      <td>4</td>\n",
       "      <td>21</td>\n",
       "      <td>5.250000</td>\n",
       "      <td>0</td>\n",
       "      <td>1</td>\n",
       "    </tr>\n",
       "    <tr>\n",
       "      <th>78</th>\n",
       "      <td>[i, race, cars, in, an, amateur, league, there...</td>\n",
       "      <td>22941</td>\n",
       "      <td>39</td>\n",
       "      <td>159</td>\n",
       "      <td>4.076923</td>\n",
       "      <td>17</td>\n",
       "      <td>3</td>\n",
       "    </tr>\n",
       "  </tbody>\n",
       "</table>\n",
       "</div>"
      ],
      "text/plain": [
       "                                                content  score  word_count  \\\n",
       "99    [valve, released, steam, took, me, entirely, t...  34877          12   \n",
       "574   [a, sugar, glider, kept, hearing, a, high, pit...  27255          29   \n",
       "76    [in, spanish, hats, are, called, sombrero, bec...  26751          11   \n",
       "1051                      [fyre, festival, vip, suites]  24645           4   \n",
       "78    [i, race, cars, in, an, amateur, league, there...  22941          39   \n",
       "\n",
       "      char_len  avg_word  stopwords  upper_words  \n",
       "99          54  4.500000          4            0  \n",
       "574        119  4.103448         12            1  \n",
       "76          56  5.090909          3            0  \n",
       "1051        21  5.250000          0            1  \n",
       "78         159  4.076923         17            3  "
      ]
     },
     "execution_count": 14,
     "metadata": {},
     "output_type": "execute_result"
    }
   ],
   "source": [
    "df['content'] = df['content'].apply(lambda comment: [word.lower() for word in comment])\n",
    "df.head()"
   ]
  },
  {
   "cell_type": "markdown",
   "metadata": {},
   "source": [
    "We don't want none of those pesky stopwords, do we?"
   ]
  },
  {
   "cell_type": "code",
   "execution_count": 15,
   "metadata": {},
   "outputs": [
    {
     "data": {
      "text/html": [
       "<div>\n",
       "<style scoped>\n",
       "    .dataframe tbody tr th:only-of-type {\n",
       "        vertical-align: middle;\n",
       "    }\n",
       "\n",
       "    .dataframe tbody tr th {\n",
       "        vertical-align: top;\n",
       "    }\n",
       "\n",
       "    .dataframe thead th {\n",
       "        text-align: right;\n",
       "    }\n",
       "</style>\n",
       "<table border=\"1\" class=\"dataframe\">\n",
       "  <thead>\n",
       "    <tr style=\"text-align: right;\">\n",
       "      <th></th>\n",
       "      <th>content</th>\n",
       "      <th>score</th>\n",
       "      <th>word_count</th>\n",
       "      <th>char_len</th>\n",
       "      <th>avg_word</th>\n",
       "      <th>stopwords</th>\n",
       "      <th>upper_words</th>\n",
       "    </tr>\n",
       "  </thead>\n",
       "  <tbody>\n",
       "    <tr>\n",
       "      <th>99</th>\n",
       "      <td>[valve, released, steam, took, entirely, long,...</td>\n",
       "      <td>34877</td>\n",
       "      <td>12</td>\n",
       "      <td>54</td>\n",
       "      <td>4.500000</td>\n",
       "      <td>4</td>\n",
       "      <td>0</td>\n",
       "    </tr>\n",
       "    <tr>\n",
       "      <th>574</th>\n",
       "      <td>[sugar, glider, kept, hearing, high, pitched, ...</td>\n",
       "      <td>27255</td>\n",
       "      <td>29</td>\n",
       "      <td>119</td>\n",
       "      <td>4.103448</td>\n",
       "      <td>12</td>\n",
       "      <td>1</td>\n",
       "    </tr>\n",
       "    <tr>\n",
       "      <th>76</th>\n",
       "      <td>[spanish, hats, called, sombrero, make, sombra...</td>\n",
       "      <td>26751</td>\n",
       "      <td>11</td>\n",
       "      <td>56</td>\n",
       "      <td>5.090909</td>\n",
       "      <td>3</td>\n",
       "      <td>0</td>\n",
       "    </tr>\n",
       "    <tr>\n",
       "      <th>1051</th>\n",
       "      <td>[fyre, festival, vip, suites]</td>\n",
       "      <td>24645</td>\n",
       "      <td>4</td>\n",
       "      <td>21</td>\n",
       "      <td>5.250000</td>\n",
       "      <td>0</td>\n",
       "      <td>1</td>\n",
       "    </tr>\n",
       "    <tr>\n",
       "      <th>78</th>\n",
       "      <td>[race, cars, amateur, league, blue, 240sx, nam...</td>\n",
       "      <td>22941</td>\n",
       "      <td>39</td>\n",
       "      <td>159</td>\n",
       "      <td>4.076923</td>\n",
       "      <td>17</td>\n",
       "      <td>3</td>\n",
       "    </tr>\n",
       "  </tbody>\n",
       "</table>\n",
       "</div>"
      ],
      "text/plain": [
       "                                                content  score  word_count  \\\n",
       "99    [valve, released, steam, took, entirely, long,...  34877          12   \n",
       "574   [sugar, glider, kept, hearing, high, pitched, ...  27255          29   \n",
       "76    [spanish, hats, called, sombrero, make, sombra...  26751          11   \n",
       "1051                      [fyre, festival, vip, suites]  24645           4   \n",
       "78    [race, cars, amateur, league, blue, 240sx, nam...  22941          39   \n",
       "\n",
       "      char_len  avg_word  stopwords  upper_words  \n",
       "99          54  4.500000          4            0  \n",
       "574        119  4.103448         12            1  \n",
       "76          56  5.090909          3            0  \n",
       "1051        21  5.250000          0            1  \n",
       "78         159  4.076923         17            3  "
      ]
     },
     "execution_count": 15,
     "metadata": {},
     "output_type": "execute_result"
    }
   ],
   "source": [
    "df['content'] = df['content'].apply(lambda comment: [word for word in comment if word not in stop])\n",
    "df.head()"
   ]
  },
  {
   "cell_type": "markdown",
   "metadata": {},
   "source": [
    "Most common words don't really help in our studies. Let's remove those!"
   ]
  },
  {
   "cell_type": "code",
   "execution_count": 16,
   "metadata": {},
   "outputs": [
    {
     "data": {
      "text/plain": [
       "im        321\n",
       "like      292\n",
       "would     288\n",
       "one       286\n",
       "time      225\n",
       "school    215\n",
       "get       211\n",
       "got       201\n",
       "didnt     191\n",
       "back      184\n",
       "dtype: int64"
      ]
     },
     "execution_count": 16,
     "metadata": {},
     "output_type": "execute_result"
    }
   ],
   "source": [
    "freq = pd.Series(' '.join(\" \".join(comment) for comment in df['content']).split(\" \")).value_counts()[:10]\n",
    "freq"
   ]
  },
  {
   "cell_type": "code",
   "execution_count": 17,
   "metadata": {},
   "outputs": [
    {
     "data": {
      "text/html": [
       "<div>\n",
       "<style scoped>\n",
       "    .dataframe tbody tr th:only-of-type {\n",
       "        vertical-align: middle;\n",
       "    }\n",
       "\n",
       "    .dataframe tbody tr th {\n",
       "        vertical-align: top;\n",
       "    }\n",
       "\n",
       "    .dataframe thead th {\n",
       "        text-align: right;\n",
       "    }\n",
       "</style>\n",
       "<table border=\"1\" class=\"dataframe\">\n",
       "  <thead>\n",
       "    <tr style=\"text-align: right;\">\n",
       "      <th></th>\n",
       "      <th>content</th>\n",
       "      <th>score</th>\n",
       "      <th>word_count</th>\n",
       "      <th>char_len</th>\n",
       "      <th>avg_word</th>\n",
       "      <th>stopwords</th>\n",
       "      <th>upper_words</th>\n",
       "    </tr>\n",
       "  </thead>\n",
       "  <tbody>\n",
       "    <tr>\n",
       "      <th>99</th>\n",
       "      <td>[valve, released, steam, took, entirely, long,...</td>\n",
       "      <td>34877</td>\n",
       "      <td>12</td>\n",
       "      <td>54</td>\n",
       "      <td>4.500000</td>\n",
       "      <td>4</td>\n",
       "      <td>0</td>\n",
       "    </tr>\n",
       "    <tr>\n",
       "      <th>574</th>\n",
       "      <td>[sugar, glider, kept, hearing, high, pitched, ...</td>\n",
       "      <td>27255</td>\n",
       "      <td>29</td>\n",
       "      <td>119</td>\n",
       "      <td>4.103448</td>\n",
       "      <td>12</td>\n",
       "      <td>1</td>\n",
       "    </tr>\n",
       "    <tr>\n",
       "      <th>76</th>\n",
       "      <td>[spanish, hats, called, sombrero, make, sombra...</td>\n",
       "      <td>26751</td>\n",
       "      <td>11</td>\n",
       "      <td>56</td>\n",
       "      <td>5.090909</td>\n",
       "      <td>3</td>\n",
       "      <td>0</td>\n",
       "    </tr>\n",
       "    <tr>\n",
       "      <th>1051</th>\n",
       "      <td>[fyre, festival, vip, suites]</td>\n",
       "      <td>24645</td>\n",
       "      <td>4</td>\n",
       "      <td>21</td>\n",
       "      <td>5.250000</td>\n",
       "      <td>0</td>\n",
       "      <td>1</td>\n",
       "    </tr>\n",
       "    <tr>\n",
       "      <th>78</th>\n",
       "      <td>[race, cars, amateur, league, blue, 240sx, nam...</td>\n",
       "      <td>22941</td>\n",
       "      <td>39</td>\n",
       "      <td>159</td>\n",
       "      <td>4.076923</td>\n",
       "      <td>17</td>\n",
       "      <td>3</td>\n",
       "    </tr>\n",
       "  </tbody>\n",
       "</table>\n",
       "</div>"
      ],
      "text/plain": [
       "                                                content  score  word_count  \\\n",
       "99    [valve, released, steam, took, entirely, long,...  34877          12   \n",
       "574   [sugar, glider, kept, hearing, high, pitched, ...  27255          29   \n",
       "76    [spanish, hats, called, sombrero, make, sombra...  26751          11   \n",
       "1051                      [fyre, festival, vip, suites]  24645           4   \n",
       "78    [race, cars, amateur, league, blue, 240sx, nam...  22941          39   \n",
       "\n",
       "      char_len  avg_word  stopwords  upper_words  \n",
       "99          54  4.500000          4            0  \n",
       "574        119  4.103448         12            1  \n",
       "76          56  5.090909          3            0  \n",
       "1051        21  5.250000          0            1  \n",
       "78         159  4.076923         17            3  "
      ]
     },
     "execution_count": 17,
     "metadata": {},
     "output_type": "execute_result"
    }
   ],
   "source": [
    "freq_list = list(freq.index)\n",
    "df['content'] = df['content'].apply(lambda comment: [word for word in comment if word not in freq_list])\n",
    "df.head()"
   ]
  },
  {
   "cell_type": "markdown",
   "metadata": {},
   "source": [
    "So the same happens with the least frequent ones. Let's remove those too."
   ]
  },
  {
   "cell_type": "code",
   "execution_count": 18,
   "metadata": {},
   "outputs": [
    {
     "data": {
      "text/plain": [
       "ａｃｔｉｖａｔｅｄ       1\n",
       "scratched       1\n",
       "alternate       1\n",
       "expunging       1\n",
       "notified        1\n",
       "sensitivity     1\n",
       "phrasing        1\n",
       "transformed     1\n",
       "continuously    1\n",
       "samuel          1\n",
       "dtype: int64"
      ]
     },
     "execution_count": 18,
     "metadata": {},
     "output_type": "execute_result"
    }
   ],
   "source": [
    "less_freq = pd.Series(' '.join(\" \".join(comment) for comment in df['content']).split(\" \")).value_counts()[-10:]\n",
    "less_freq"
   ]
  },
  {
   "cell_type": "code",
   "execution_count": 19,
   "metadata": {},
   "outputs": [
    {
     "data": {
      "text/html": [
       "<div>\n",
       "<style scoped>\n",
       "    .dataframe tbody tr th:only-of-type {\n",
       "        vertical-align: middle;\n",
       "    }\n",
       "\n",
       "    .dataframe tbody tr th {\n",
       "        vertical-align: top;\n",
       "    }\n",
       "\n",
       "    .dataframe thead th {\n",
       "        text-align: right;\n",
       "    }\n",
       "</style>\n",
       "<table border=\"1\" class=\"dataframe\">\n",
       "  <thead>\n",
       "    <tr style=\"text-align: right;\">\n",
       "      <th></th>\n",
       "      <th>content</th>\n",
       "      <th>score</th>\n",
       "      <th>word_count</th>\n",
       "      <th>char_len</th>\n",
       "      <th>avg_word</th>\n",
       "      <th>stopwords</th>\n",
       "      <th>upper_words</th>\n",
       "    </tr>\n",
       "  </thead>\n",
       "  <tbody>\n",
       "    <tr>\n",
       "      <th>99</th>\n",
       "      <td>[valve, released, steam, took, entirely, long,...</td>\n",
       "      <td>34877</td>\n",
       "      <td>12</td>\n",
       "      <td>54</td>\n",
       "      <td>4.500000</td>\n",
       "      <td>4</td>\n",
       "      <td>0</td>\n",
       "    </tr>\n",
       "    <tr>\n",
       "      <th>574</th>\n",
       "      <td>[sugar, glider, kept, hearing, high, pitched, ...</td>\n",
       "      <td>27255</td>\n",
       "      <td>29</td>\n",
       "      <td>119</td>\n",
       "      <td>4.103448</td>\n",
       "      <td>12</td>\n",
       "      <td>1</td>\n",
       "    </tr>\n",
       "    <tr>\n",
       "      <th>76</th>\n",
       "      <td>[spanish, hats, called, sombrero, make, sombra...</td>\n",
       "      <td>26751</td>\n",
       "      <td>11</td>\n",
       "      <td>56</td>\n",
       "      <td>5.090909</td>\n",
       "      <td>3</td>\n",
       "      <td>0</td>\n",
       "    </tr>\n",
       "    <tr>\n",
       "      <th>1051</th>\n",
       "      <td>[fyre, festival, vip, suites]</td>\n",
       "      <td>24645</td>\n",
       "      <td>4</td>\n",
       "      <td>21</td>\n",
       "      <td>5.250000</td>\n",
       "      <td>0</td>\n",
       "      <td>1</td>\n",
       "    </tr>\n",
       "    <tr>\n",
       "      <th>78</th>\n",
       "      <td>[race, cars, amateur, league, blue, 240sx, nam...</td>\n",
       "      <td>22941</td>\n",
       "      <td>39</td>\n",
       "      <td>159</td>\n",
       "      <td>4.076923</td>\n",
       "      <td>17</td>\n",
       "      <td>3</td>\n",
       "    </tr>\n",
       "  </tbody>\n",
       "</table>\n",
       "</div>"
      ],
      "text/plain": [
       "                                                content  score  word_count  \\\n",
       "99    [valve, released, steam, took, entirely, long,...  34877          12   \n",
       "574   [sugar, glider, kept, hearing, high, pitched, ...  27255          29   \n",
       "76    [spanish, hats, called, sombrero, make, sombra...  26751          11   \n",
       "1051                      [fyre, festival, vip, suites]  24645           4   \n",
       "78    [race, cars, amateur, league, blue, 240sx, nam...  22941          39   \n",
       "\n",
       "      char_len  avg_word  stopwords  upper_words  \n",
       "99          54  4.500000          4            0  \n",
       "574        119  4.103448         12            1  \n",
       "76          56  5.090909          3            0  \n",
       "1051        21  5.250000          0            1  \n",
       "78         159  4.076923         17            3  "
      ]
     },
     "execution_count": 19,
     "metadata": {},
     "output_type": "execute_result"
    }
   ],
   "source": [
    "less_freq_list = list(less_freq.index)\n",
    "df['content'] = df['content'].apply(lambda comment: [word for word in comment if word not in less_freq_list])\n",
    "df.head()"
   ]
  },
  {
   "cell_type": "markdown",
   "metadata": {},
   "source": [
    "Now that we are with less words, let's correct those we have. In the internet, half the people write like shit believe or not!\n",
    "\n",
    "This usually takes a while, don't panic."
   ]
  },
  {
   "cell_type": "code",
   "execution_count": 20,
   "metadata": {},
   "outputs": [],
   "source": [
    "#from textblob import TextBlob\n",
    "#print(TextBlob(\" \".join(\"Hey what are you doing?\".split())).correct())\n",
    "#df['content'] = df['content'].apply(lambda comment: TextBlob(\" \".join(comment)).correct())\n",
    "#df.head()"
   ]
  },
  {
   "cell_type": "markdown",
   "metadata": {},
   "source": [
    "Now, we will turn all the words into their lemmas.\n",
    "See, you can have `tree` and `trees` or `go` and `going`, and this will turn it into `tree` and `go`.\n",
    "\n",
    "This should take a while."
   ]
  },
  {
   "cell_type": "code",
   "execution_count": 21,
   "metadata": {},
   "outputs": [
    {
     "data": {
      "text/html": [
       "<div>\n",
       "<style scoped>\n",
       "    .dataframe tbody tr th:only-of-type {\n",
       "        vertical-align: middle;\n",
       "    }\n",
       "\n",
       "    .dataframe tbody tr th {\n",
       "        vertical-align: top;\n",
       "    }\n",
       "\n",
       "    .dataframe thead th {\n",
       "        text-align: right;\n",
       "    }\n",
       "</style>\n",
       "<table border=\"1\" class=\"dataframe\">\n",
       "  <thead>\n",
       "    <tr style=\"text-align: right;\">\n",
       "      <th></th>\n",
       "      <th>content</th>\n",
       "      <th>score</th>\n",
       "      <th>word_count</th>\n",
       "      <th>char_len</th>\n",
       "      <th>avg_word</th>\n",
       "      <th>stopwords</th>\n",
       "      <th>upper_words</th>\n",
       "    </tr>\n",
       "  </thead>\n",
       "  <tbody>\n",
       "    <tr>\n",
       "      <th>99</th>\n",
       "      <td>[valve, released, steam, took, entirely, long,...</td>\n",
       "      <td>34877</td>\n",
       "      <td>12</td>\n",
       "      <td>54</td>\n",
       "      <td>4.500000</td>\n",
       "      <td>4</td>\n",
       "      <td>0</td>\n",
       "    </tr>\n",
       "    <tr>\n",
       "      <th>574</th>\n",
       "      <td>[sugar, glider, kept, hearing, high, pitched, ...</td>\n",
       "      <td>27255</td>\n",
       "      <td>29</td>\n",
       "      <td>119</td>\n",
       "      <td>4.103448</td>\n",
       "      <td>12</td>\n",
       "      <td>1</td>\n",
       "    </tr>\n",
       "    <tr>\n",
       "      <th>76</th>\n",
       "      <td>[spanish, hat, called, sombrero, make, sombra,...</td>\n",
       "      <td>26751</td>\n",
       "      <td>11</td>\n",
       "      <td>56</td>\n",
       "      <td>5.090909</td>\n",
       "      <td>3</td>\n",
       "      <td>0</td>\n",
       "    </tr>\n",
       "    <tr>\n",
       "      <th>1051</th>\n",
       "      <td>[fyre, festival, vip, suite]</td>\n",
       "      <td>24645</td>\n",
       "      <td>4</td>\n",
       "      <td>21</td>\n",
       "      <td>5.250000</td>\n",
       "      <td>0</td>\n",
       "      <td>1</td>\n",
       "    </tr>\n",
       "    <tr>\n",
       "      <th>78</th>\n",
       "      <td>[race, car, amateur, league, blue, 240sx, name...</td>\n",
       "      <td>22941</td>\n",
       "      <td>39</td>\n",
       "      <td>159</td>\n",
       "      <td>4.076923</td>\n",
       "      <td>17</td>\n",
       "      <td>3</td>\n",
       "    </tr>\n",
       "  </tbody>\n",
       "</table>\n",
       "</div>"
      ],
      "text/plain": [
       "                                                content  score  word_count  \\\n",
       "99    [valve, released, steam, took, entirely, long,...  34877          12   \n",
       "574   [sugar, glider, kept, hearing, high, pitched, ...  27255          29   \n",
       "76    [spanish, hat, called, sombrero, make, sombra,...  26751          11   \n",
       "1051                       [fyre, festival, vip, suite]  24645           4   \n",
       "78    [race, car, amateur, league, blue, 240sx, name...  22941          39   \n",
       "\n",
       "      char_len  avg_word  stopwords  upper_words  \n",
       "99          54  4.500000          4            0  \n",
       "574        119  4.103448         12            1  \n",
       "76          56  5.090909          3            0  \n",
       "1051        21  5.250000          0            1  \n",
       "78         159  4.076923         17            3  "
      ]
     },
     "execution_count": 21,
     "metadata": {},
     "output_type": "execute_result"
    }
   ],
   "source": [
    "from textblob import Word\n",
    "df['content'] = df['content'].apply(lambda comment: [Word(word).lemmatize() for word in comment])\n",
    "df.head()"
   ]
  },
  {
   "cell_type": "code",
   "execution_count": 28,
   "metadata": {},
   "outputs": [
    {
     "data": {
      "image/png": "[encoded data removed]",
      "text/plain": [
       "<Figure size 432x288 with 1 Axes>"
      ]
     },
     "metadata": {
      "needs_background": "light"
     },
     "output_type": "display_data"
    }
   ],
   "source": [
    "from wordcloud import WordCloud, STOPWORDS, ImageColorGenerator\n",
    "\n",
    "import matplotlib.pyplot as plt\n",
    "\n",
    "wordcloud = WordCloud(max_font_size=50, background_color=\"white\").generate(\" \".join(\" \".join(comment) for comment in df['content']))\n",
    "plt.figure()\n",
    "plt.imshow(wordcloud, interpolation=\"bilinear\")\n",
    "plt.axis(\"off\")\n",
    "plt.show()"
   ]
  }
 ],
 "metadata": {
  "kernelspec": {
   "display_name": "Python 3",
   "language": "python",
   "name": "python3"
  },
  "language_info": {
   "codemirror_mode": {
    "name": "ipython",
    "version": 3
   },
   "file_extension": ".py",
   "mimetype": "text/x-python",
   "name": "python",
   "nbconvert_exporter": "python",
   "pygments_lexer": "ipython3",
   "version": "3.7.2"
  }
 },
 "nbformat": 4,
 "nbformat_minor": 2
}
